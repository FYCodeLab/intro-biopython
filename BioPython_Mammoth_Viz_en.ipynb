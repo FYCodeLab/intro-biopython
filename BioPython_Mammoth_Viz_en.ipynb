{
  "nbformat": 4,
  "nbformat_minor": 0,
  "metadata": {
    "colab": {
      "provenance": [],
      "authorship_tag": "ABX9TyMvWol4+dK72zy2/iX3Sihf",
      "include_colab_link": true
    },
    "kernelspec": {
      "name": "python3",
      "display_name": "Python 3"
    },
    "language_info": {
      "name": "python"
    }
  },
  "cells": [
    {
      "cell_type": "markdown",
      "metadata": {
        "id": "view-in-github",
        "colab_type": "text"
      },
      "source": [
        "<a href=\"https://colab.research.google.com/github/FYCodeLab/intro-biopython/blob/main/BioPython_Mammoth_Viz_en.ipynb\" target=\"_parent\"><img src=\"https://colab.research.google.com/assets/colab-badge.svg\" alt=\"Open In Colab\"/></a>"
      ]
    },
    {
      "cell_type": "markdown",
      "source": [
        "![Carte génétique du génome mitochondrial du mammouth](https://raw.githubusercontent.com/FYCodeLab/intro-biopython/main/assets/intromamm.png)\n"
      ],
      "metadata": {
        "id": "EaroUHeq0hh-"
      }
    },
    {
      "cell_type": "markdown",
      "source": [
        "![Installation dans Colab](https://raw.githubusercontent.com/FYCodeLab/intro-biopython/main/assets/step1pack.png)\n"
      ],
      "metadata": {
        "id": "dQE3mkiD1eik"
      }
    },
    {
      "cell_type": "markdown",
      "source": [
        "First we will *install* Biopython, a useful package (or library) that provides tools for working with scientific articles fom PubMed or with biological data — such as DNA sequences, GenBank files etc...\n",
        "Biopython is really easy !\n",
        "\n",
        "Let’s start by installing it. In python, the command `pip install` is used to install a library"
      ],
      "metadata": {
        "id": "tjoKoN7D2L6T"
      }
    },
    {
      "cell_type": "code",
      "source": [
        "#Let's install the biopython package (library) !\n",
        "pip install biopython\n"
      ],
      "metadata": {
        "colab": {
          "base_uri": "https://localhost:8080/"
        },
        "id": "hMSQ0wPLtQ6f",
        "outputId": "0f14f3f4-0f6a-4527-ea82-0d85b761bd6f"
      },
      "execution_count": 1,
      "outputs": [
        {
          "output_type": "stream",
          "name": "stdout",
          "text": [
            "Collecting biopython\n",
            "  Downloading biopython-1.85-cp311-cp311-manylinux_2_17_x86_64.manylinux2014_x86_64.whl.metadata (13 kB)\n",
            "Requirement already satisfied: numpy in /usr/local/lib/python3.11/dist-packages (from biopython) (2.0.2)\n",
            "Downloading biopython-1.85-cp311-cp311-manylinux_2_17_x86_64.manylinux2014_x86_64.whl (3.3 MB)\n",
            "\u001b[2K   \u001b[90m━━━━━━━━━━━━━━━━━━━━━━━━━━━━━━━━━━━━━━━━\u001b[0m \u001b[32m3.3/3.3 MB\u001b[0m \u001b[31m16.4 MB/s\u001b[0m eta \u001b[36m0:00:00\u001b[0m\n",
            "\u001b[?25hInstalling collected packages: biopython\n",
            "Successfully installed biopython-1.85\n"
          ]
        }
      ]
    },
    {
      "cell_type": "markdown",
      "source": [
        "![Installation dans Colab](https://raw.githubusercontent.com/FYCodeLab/intro-biopython/main/assets/step2down.png)\n",
        "\n",
        "\n",
        "## 📥 Step 2: Download the Mammoth Mitochondrial Genome Using Biopython\n",
        "\n",
        "In this  step, we'll use **Biopython** to connect to the **NCBI database** (National Center for Biotechnology Information) and automatically retrieve the **complete mitochondrial genome** of the woolly mammoth (*Mammuthus primigenius*).\n",
        "\n",
        "We’ll use the `Entrez` module from Biopython, which allows us to search and download biological data — just like using the NCBI website, but directly from Python!\n",
        "\n",
        "---\n",
        "\n",
        "### ⚙️ What does this script do?\n",
        "\n",
        "- It sends a search query to NCBI to find the **complete mitochondrial genome** of the mammoth.\n",
        "- It retrieves a list of matching entries (up to 5).\n",
        "- It selects the **most relevant result** (the first one).\n",
        "- It **downloads the GenBank file** for that result.\n",
        "- It **saves the file locally** in your Colab environment for later use.\n",
        "\n",
        "---\n",
        "\n",
        "### 📦 Why GenBank format?\n",
        "\n",
        "The **GenBank (.gb)** format includes:\n",
        "- The full **DNA sequence**\n",
        "- **Annotations** (genes, CDS, tRNAs, etc.)\n",
        "- Metadata such as organism name, accession number, and references\n",
        "\n",
        "It's one of the most commonly used formats in bioinformatics.\n",
        "\n",
        "---\n",
        "\n",
        "### 🧪 What will you get?\n",
        "\n",
        "At the end of this step, a file named:\n",
        "`mammoth_mitochondrial_genome.gb`\n",
        "\n",
        "the file is placed in the **📁 folder section** on the left of the screen\n",
        "\n"
      ],
      "metadata": {
        "id": "TAa2Qf_93LMQ"
      }
    },
    {
      "cell_type": "code",
      "execution_count": 8,
      "metadata": {
        "colab": {
          "base_uri": "https://localhost:8080/"
        },
        "id": "RdGu-v6TtFPn",
        "outputId": "1d1a7cef-b5b1-4392-9bac-36b6e6e0c92b"
      },
      "outputs": [
        {
          "output_type": "stream",
          "name": "stdout",
          "text": [
            "🔍 Je cherche le génome mitochondrial complet du mammouth sur NCBI...\n",
            "✅ J'ai trouvé 5 fichier(s) correspondant(s).\n",
            "📄 Je vais télécharger le fichier GenBank correspondant à l'ID : 124056416\n",
            "💾 Fichier téléchargé et enregistré sous le nom : mammoth_mitochondrial_genome.gb\n"
          ]
        }
      ],
      "source": [
        "# On importe le module Entrez de Biopython, qui permet de se connecter aux bases de données de NCBI\n",
        "from Bio import Entrez\n",
        "\n",
        "# NCBI demande que chaque utilisateur s'identifie avec un e-mail valide\n",
        "Entrez.email = \"your.email@example.com\"  # Remplacer par votre adresse\n",
        "\n",
        "# Message d'information pour suivre les étapes dans la console\n",
        "print(\"🔍 Je cherche le génome mitochondrial complet du mammouth sur NCBI...\")\n",
        "\n",
        "# On définit la requête : on veut un génome mitochondrial complet de Mammuthus primigenius\n",
        "search_term = \"Mammuthus primigenius[Organism] AND mitochondrion[Filter] AND complete genome\"\n",
        "\n",
        "# On effectue une recherche dans la base \"nucleotide\" avec notre requête\n",
        "handle = Entrez.esearch(db=\"nucleotide\", term=search_term, retmax=5)  # On demande jusqu'à 5 résultats pour voir ce qui existe\n",
        "record = Entrez.read(handle)\n",
        "handle.close()\n",
        "\n",
        "# On affiche le nombre de résultats trouvés\n",
        "print(f\"✅ J'ai trouvé {len(record['IdList'])} fichier(s) correspondant(s).\")\n",
        "\n",
        "# On prend le premier identifiant (le plus pertinent selon NCBI)\n",
        "mammoth_id = record[\"IdList\"][0]\n",
        "print(f\"📄 Je vais télécharger le fichier GenBank correspondant à l'ID : {mammoth_id}\")\n",
        "\n",
        "# On télécharge les données GenBank du premier résultat\n",
        "handle = Entrez.efetch(db=\"nucleotide\", id=mammoth_id, rettype=\"gb\", retmode=\"text\")\n",
        "genbank_data = handle.read()\n",
        "handle.close()\n",
        "\n",
        "# On enregistre le contenu dans un fichier local\n",
        "file_name = \"mammoth_mitochondrial_genome.gb\"\n",
        "with open(file_name, \"w\") as file:\n",
        "    file.write(genbank_data)\n",
        "\n",
        "# Message final pour dire que tout s’est bien passé\n",
        "print(f\"💾 Fichier téléchargé et enregistré sous le nom : {file_name}\")\n"
      ]
    },
    {
      "cell_type": "markdown",
      "source": [
        "![Installation dans Colab](https://raw.githubusercontent.com/FYCodeLab/intro-biopython/main/assets/step3viz.png)\n",
        "\n",
        "\n",
        "## 🧬 Step 3: Visualize the Mammoth Mitochondrial Genome\n",
        "\n",
        "Now that we've downloaded the GenBank file for the mammoth's mitochondrial genome, it's time to **visualize its genes**!\n",
        "\n",
        "We will use the great `dna-features-viewer` library, which allows us to create clean, modern diagrams of annotated DNA sequences. This is perfect for beginners who want to **see where the genes are** along a sequence.\n",
        "\n",
        "Let's install the `dna-features-viewer` library"
      ],
      "metadata": {
        "id": "mzipLfXL6LQs"
      }
    },
    {
      "cell_type": "code",
      "source": [
        "#Install the library `dna-features-viewer`\n",
        "pip install dna_features_viewer"
      ],
      "metadata": {
        "colab": {
          "base_uri": "https://localhost:8080/"
        },
        "id": "FYZ5R2fyuzEb",
        "outputId": "44fba0b4-b376-4066-f8d5-16202329d208"
      },
      "execution_count": 5,
      "outputs": [
        {
          "output_type": "stream",
          "name": "stdout",
          "text": [
            "Collecting dna_features_viewer\n",
            "  Downloading dna_features_viewer-3.1.3-py3-none-any.whl.metadata (2.0 kB)\n",
            "Requirement already satisfied: matplotlib>=3 in /usr/local/lib/python3.11/dist-packages (from dna_features_viewer) (3.10.0)\n",
            "Requirement already satisfied: Biopython in /usr/local/lib/python3.11/dist-packages (from dna_features_viewer) (1.85)\n",
            "Requirement already satisfied: packaging in /usr/local/lib/python3.11/dist-packages (from dna_features_viewer) (24.2)\n",
            "Requirement already satisfied: contourpy>=1.0.1 in /usr/local/lib/python3.11/dist-packages (from matplotlib>=3->dna_features_viewer) (1.3.1)\n",
            "Requirement already satisfied: cycler>=0.10 in /usr/local/lib/python3.11/dist-packages (from matplotlib>=3->dna_features_viewer) (0.12.1)\n",
            "Requirement already satisfied: fonttools>=4.22.0 in /usr/local/lib/python3.11/dist-packages (from matplotlib>=3->dna_features_viewer) (4.56.0)\n",
            "Requirement already satisfied: kiwisolver>=1.3.1 in /usr/local/lib/python3.11/dist-packages (from matplotlib>=3->dna_features_viewer) (1.4.8)\n",
            "Requirement already satisfied: numpy>=1.23 in /usr/local/lib/python3.11/dist-packages (from matplotlib>=3->dna_features_viewer) (2.0.2)\n",
            "Requirement already satisfied: pillow>=8 in /usr/local/lib/python3.11/dist-packages (from matplotlib>=3->dna_features_viewer) (11.1.0)\n",
            "Requirement already satisfied: pyparsing>=2.3.1 in /usr/local/lib/python3.11/dist-packages (from matplotlib>=3->dna_features_viewer) (3.2.1)\n",
            "Requirement already satisfied: python-dateutil>=2.7 in /usr/local/lib/python3.11/dist-packages (from matplotlib>=3->dna_features_viewer) (2.8.2)\n",
            "Requirement already satisfied: six>=1.5 in /usr/local/lib/python3.11/dist-packages (from python-dateutil>=2.7->matplotlib>=3->dna_features_viewer) (1.17.0)\n",
            "Downloading dna_features_viewer-3.1.3-py3-none-any.whl (31 kB)\n",
            "Installing collected packages: dna_features_viewer\n",
            "Successfully installed dna_features_viewer-3.1.3\n"
          ]
        }
      ]
    },
    {
      "cell_type": "markdown",
      "source": [
        "## 🧬Visualising the content of the GenBank file\n",
        "---\n",
        "\n",
        "### 🛠 What does this script do?\n",
        "\n",
        "- It opens the **GenBank file** `mammoth_mitochondrial_genome.gb`we downloaded earlier.\n",
        "- It reads all the annotated features in the file (like genes, CDS, etc.).\n",
        "- It filters to show only the **genes**.\n",
        "- For each gene, it creates a **colored box** that represents:\n",
        "  - The position of the gene on the DNA\n",
        "  - The strand it is on (forward or reverse)\n",
        "  - Its name as a label\n",
        "- It draws a **linear map** of the genome, showing all genes with their names and directions.\n",
        "\n",
        "---\n",
        "\n",
        "### 🖼 What will you see?\n",
        "\n",
        "A horizontal diagram generated from the content of the gb file `mammoth_mitochondrial_genome.gb`\n",
        "\n"
      ],
      "metadata": {
        "id": "HDYwWLuh5Qcz"
      }
    },
    {
      "cell_type": "code",
      "source": [
        "# Importation des bibliothèques nécessaires\n",
        "from dna_features_viewer import GraphicFeature, GraphicRecord  # Pour dessiner la carte génétique\n",
        "from Bio import SeqIO  # Pour lire des fichiers GenBank\n",
        "import matplotlib.pyplot as plt  # Pour afficher le graphique\n",
        "\n",
        "# Lecture du fichier GenBank contenant le génome mitochondrial du mammouth\n",
        "record = SeqIO.read(\"mammoth_mitochondrial_genome.gb\", \"genbank\")\n",
        "\n",
        "# Création d'une liste pour stocker les éléments génétiques à afficher\n",
        "features = []\n",
        "\n",
        "# Parcours de toutes les annotations présentes dans le fichier\n",
        "for feature in record.features:\n",
        "    # On sélectionne uniquement les éléments de type \"gene\" ayant un nom\n",
        "    if feature.type == \"gene\" and \"gene\" in feature.qualifiers:\n",
        "        # On crée un objet graphique pour représenter chaque gène\n",
        "        features.append(\n",
        "            GraphicFeature(\n",
        "                start=int(feature.location.start),  # Position de début du gène\n",
        "                end=int(feature.location.end),      # Position de fin du gène\n",
        "                strand=feature.strand,              # Brin (+1 ou -1)\n",
        "                color=\"#ffcc00\" if feature.strand == 1 else \"#99ccff\",  # Couleur selon le sens\n",
        "                label=feature.qualifiers[\"gene\"][0]  # Nom du gène affiché comme étiquette\n",
        "            )\n",
        "        )\n",
        "\n",
        "# Création d'un enregistrement graphique avec la longueur totale de la séquence\n",
        "graphic_record = GraphicRecord(\n",
        "    sequence_length=len(record.seq),  # Longueur du génome\n",
        "    features=features                 # Liste des éléments graphiques à dessiner\n",
        ")\n",
        "\n",
        "# Tracé du graphique avec une largeur en pouces (modifiable)\n",
        "ax, _ = graphic_record.plot(figure_width=12)\n",
        "\n",
        "# Ajout d’un titre au graphique\n",
        "plt.title(\"Génome mitochondrial du mammouth (annotations des gènes)\")\n",
        "\n",
        "# Affichage du graphique\n",
        "plt.show()\n"
      ],
      "metadata": {
        "colab": {
          "base_uri": "https://localhost:8080/",
          "height": 224
        },
        "id": "iL3pgAP-ux8i",
        "outputId": "798cac46-6c64-46f7-8d7c-599514590633"
      },
      "execution_count": 7,
      "outputs": [
        {
          "output_type": "display_data",
          "data": {
            "text/plain": [
              "<Figure size 1200x300 with 1 Axes>"
            ],
            "image/png": "[encoded data removed]"
          },
          "metadata": {}
        }
      ]
    }
  ]
}
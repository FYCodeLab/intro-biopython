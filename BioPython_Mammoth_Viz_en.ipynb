{
  "nbformat": 4,
  "nbformat_minor": 0,
  "metadata": {
    "colab": {
      "provenance": [],
      "authorship_tag": "ABX9TyNQiunp/LpSR2SvuEvmRq8Q",
      "include_colab_link": true
    },
    "kernelspec": {
      "name": "python3",
      "display_name": "Python 3"
    },
    "language_info": {
      "name": "python"
    }
  },
  "cells": [
    {
      "cell_type": "markdown",
      "metadata": {
        "id": "view-in-github",
        "colab_type": "text"
      },
      "source": [
        "<a href=\"https://colab.research.google.com/github/FYCodeLab/intro-biopython/blob/main/BioPython_Mammoth_Viz_en.ipynb\" target=\"_parent\"><img src=\"https://colab.research.google.com/assets/colab-badge.svg\" alt=\"Open In Colab\"/></a>"
      ]
    },
    {
      "cell_type": "markdown",
      "source": [
        "![Carte génétique du génome mitochondrial du mammouth](https://raw.githubusercontent.com/FYCodeLab/intro-biopython/main/assets/intromamm.png)\n"
      ],
      "metadata": {
        "id": "EaroUHeq0hh-"
      }
    },
    {
      "cell_type": "markdown",
      "source": [
        "![Installation dans Colab](https://raw.githubusercontent.com/FYCodeLab/intro-biopython/main/assets/step1pack.png)\n"
      ],
      "metadata": {
        "id": "dQE3mkiD1eik"
      }
    },
    {
      "cell_type": "markdown",
      "source": [
        "First we will *install* Biopython, a useful package (or library) that provides tools for working with scientific articles fom PubMed or with biological data — such as DNA sequences, GenBank files etc...\n",
        "Biopython is really easy !\n",
        "\n",
        "Let’s start by installing it. In python, the command `pip install` is used to install a library"
      ],
      "metadata": {
        "id": "tjoKoN7D2L6T"
      }
    },
    {
      "cell_type": "code",
      "source": [
        "#Let's install the biopython package (library) !\n",
        "#Let's install the biopython package (library) !\n",
        "# To do this run this script by clicking on the [▶️] button on the left\n",
        "# 'To run this Colab Script, you will have to log in with your google account.)\n",
        "!pip install biopython"
      ],
      "metadata": {
        "id": "hMSQ0wPLtQ6f"
      },
      "execution_count": null,
      "outputs": []
    },
    {
      "cell_type": "markdown",
      "source": [
        "![Installation dans Colab](https://raw.githubusercontent.com/FYCodeLab/intro-biopython/main/assets/step2down.png)\n",
        "\n",
        "\n",
        "## 📥 Step 2: Download the Mammoth Mitochondrial Genome Using Biopython\n",
        "\n",
        "In this  step, we'll use **Biopython** to connect to the **NCBI database** (National Center for Biotechnology Information) and automatically retrieve the **complete mitochondrial genome** of the woolly mammoth (*Mammuthus primigenius*).\n",
        "\n",
        "We’ll use the `Entrez` module from Biopython, which allows us to search and download biological data — just like using the NCBI website, but directly from Python!\n",
        "\n",
        "---\n",
        "\n",
        "### ⚙️ What does this script do?\n",
        "\n",
        "- It sends a search query to NCBI to find the **complete mitochondrial genome** of the mammoth.\n",
        "- It retrieves a list of matching entries (up to 5).\n",
        "- It selects the **most relevant result** (the first one).\n",
        "- It **downloads the GenBank file** for that result.\n",
        "- It **saves the file locally** in your Colab environment for later use.\n",
        "\n",
        "---\n",
        "\n",
        "### 📦 Why GenBank format?\n",
        "\n",
        "The **GenBank (.gb)** format includes:\n",
        "- The full **DNA sequence**\n",
        "- **Annotations** (genes, CDS, tRNAs, etc.)\n",
        "- Metadata such as organism name, accession number, and references\n",
        "\n",
        "It's one of the most commonly used formats in bioinformatics.\n",
        "\n",
        "---\n",
        "\n",
        "### 🧪 What will you get?\n",
        "\n",
        "At the end of this step, a file named:\n",
        "`mammoth_mitochondrial_genome.gb`\n",
        "\n",
        "the file is placed in the **📁 folder section** on the left of the screen\n",
        "\n"
      ],
      "metadata": {
        "id": "TAa2Qf_93LMQ"
      }
    },
    {
      "cell_type": "code",
      "execution_count": null,
      "metadata": {
        "id": "RdGu-v6TtFPn"
      },
      "outputs": [],
      "source": [
        "# On importe le module Entrez de Biopython, qui permet de se connecter aux bases de données de NCBI\n",
        "from Bio import Entrez\n",
        "\n",
        "# NCBI demande que chaque utilisateur s'identifie avec un e-mail valide\n",
        "Entrez.email = \"your.email@example.com\"  # Remplacer par votre adresse\n",
        "\n",
        "# Message d'information pour suivre les étapes dans la console\n",
        "print(\"🔍 Je cherche le génome mitochondrial complet du mammouth sur NCBI...\")\n",
        "\n",
        "# On définit la requête : on veut un génome mitochondrial complet de Mammuthus primigenius\n",
        "search_term = \"Mammuthus primigenius[Organism] AND mitochondrion[Filter] AND complete genome\"\n",
        "\n",
        "# On effectue une recherche dans la base \"nucleotide\" avec notre requête\n",
        "handle = Entrez.esearch(db=\"nucleotide\", term=search_term, retmax=5)  # On demande jusqu'à 5 résultats pour voir ce qui existe\n",
        "record = Entrez.read(handle)\n",
        "handle.close()\n",
        "\n",
        "# On affiche le nombre de résultats trouvés\n",
        "print(f\"✅ J'ai trouvé {len(record['IdList'])} fichier(s) correspondant(s).\")\n",
        "\n",
        "# On prend le premier identifiant (le plus pertinent selon NCBI)\n",
        "mammoth_id = record[\"IdList\"][0]\n",
        "print(f\"📄 Je vais télécharger le fichier GenBank correspondant à l'ID : {mammoth_id}\")\n",
        "\n",
        "# On télécharge les données GenBank du premier résultat\n",
        "handle = Entrez.efetch(db=\"nucleotide\", id=mammoth_id, rettype=\"gb\", retmode=\"text\")\n",
        "genbank_data = handle.read()\n",
        "handle.close()\n",
        "\n",
        "# On enregistre le contenu dans un fichier local\n",
        "file_name = \"mammoth_mitochondrial_genome.gb\"\n",
        "with open(file_name, \"w\") as file:\n",
        "    file.write(genbank_data)\n",
        "\n",
        "# Message final pour dire que tout s’est bien passé\n",
        "print(f\"💾 Fichier téléchargé et enregistré sous le nom : {file_name}\")\n"
      ]
    },
    {
      "cell_type": "markdown",
      "source": [
        "![Installation dans Colab](https://raw.githubusercontent.com/FYCodeLab/intro-biopython/main/assets/step3viz.png)\n",
        "\n",
        "\n",
        "## 🧬 Step 3: Visualize the Mammoth Mitochondrial Genome\n",
        "\n",
        "Now that we've downloaded the GenBank file for the mammoth's mitochondrial genome, it's time to **visualize its genes**!\n",
        "\n",
        "We will use the great `dna-features-viewer` library, which allows us to create clean, modern diagrams of annotated DNA sequences. This is perfect for beginners who want to **see where the genes are** along a sequence.\n",
        "\n",
        "Let's install the `dna-features-viewer` library"
      ],
      "metadata": {
        "id": "mzipLfXL6LQs"
      }
    },
    {
      "cell_type": "code",
      "source": [
        "#Install the library `dna-features-viewer`\n",
        "!pip install dna_features_viewer"
      ],
      "metadata": {
        "id": "FYZ5R2fyuzEb"
      },
      "execution_count": null,
      "outputs": []
    },
    {
      "cell_type": "markdown",
      "source": [
        "## 🧬Visualising the content of the GenBank file\n",
        "---\n",
        "\n",
        "### 🛠 What does this script do?\n",
        "\n",
        "- It opens the **GenBank file** `mammoth_mitochondrial_genome.gb`we downloaded earlier.\n",
        "- It reads all the annotated features in the file (like genes, CDS, etc.).\n",
        "- It filters to show only the **genes**.\n",
        "- For each gene, it creates a **colored box** that represents:\n",
        "  - The position of the gene on the DNA\n",
        "  - The strand it is on (forward or reverse)\n",
        "  - Its name as a label\n",
        "- It draws a **linear map** of the genome, showing all genes with their names and directions.\n",
        "\n",
        "---\n",
        "\n",
        "### 🖼 What will you see?\n",
        "\n",
        "A horizontal diagram generated from the content of the gb file `mammoth_mitochondrial_genome.gb`\n",
        "\n"
      ],
      "metadata": {
        "id": "HDYwWLuh5Qcz"
      }
    },
    {
      "cell_type": "code",
      "source": [
        "# Importation des bibliothèques nécessaires\n",
        "from dna_features_viewer import GraphicFeature, GraphicRecord  # Pour dessiner la carte génétique\n",
        "from Bio import SeqIO  # Pour lire des fichiers GenBank\n",
        "import matplotlib.pyplot as plt  # Pour afficher le graphique\n",
        "\n",
        "# Lecture du fichier GenBank contenant le génome mitochondrial du mammouth\n",
        "record = SeqIO.read(\"mammoth_mitochondrial_genome.gb\", \"genbank\")\n",
        "\n",
        "# Création d'une liste pour stocker les éléments génétiques à afficher\n",
        "features = []\n",
        "\n",
        "# Parcours de toutes les annotations présentes dans le fichier\n",
        "for feature in record.features:\n",
        "    # On sélectionne uniquement les éléments de type \"gene\" ayant un nom\n",
        "    if feature.type == \"gene\" and \"gene\" in feature.qualifiers:\n",
        "        # On crée un objet graphique pour représenter chaque gène\n",
        "        features.append(\n",
        "            GraphicFeature(\n",
        "                start=int(feature.location.start),  # Position de début du gène\n",
        "                end=int(feature.location.end),      # Position de fin du gène\n",
        "                strand=feature.location.strand,              # Brin (+1 ou -1)\n",
        "                color=\"#ffcc00\" if feature.strand == 1 else \"#99ccff\",  # Couleur selon le sens\n",
        "                label=feature.qualifiers[\"gene\"][0]  # Nom du gène affiché comme étiquette\n",
        "            )\n",
        "        )\n",
        "\n",
        "# Création d'un enregistrement graphique avec la longueur totale de la séquence\n",
        "graphic_record = GraphicRecord(\n",
        "    sequence_length=len(record.seq),  # Longueur du génome\n",
        "    features=features                 # Liste des éléments graphiques à dessiner\n",
        ")\n",
        "\n",
        "# Tracé du graphique avec une largeur en pouces (modifiable)\n",
        "ax, _ = graphic_record.plot(figure_width=12)\n",
        "\n",
        "# Ajout d’un titre au graphique\n",
        "plt.title(\"Génome mitochondrial du mammouth (annotations des gènes)\")\n",
        "\n",
        "# Affichage du graphique\n",
        "plt.show()\n"
      ],
      "metadata": {
        "id": "iL3pgAP-ux8i"
      },
      "execution_count": null,
      "outputs": []
    }
  ]
}